{
 "cells": [
  {
   "cell_type": "markdown",
   "metadata": {},
   "source": [
    "# 1. Write a program that uses a while loop (not a for loop) to read through a string and print the characters of the string one-by-one on separate lines."
   ]
  },
  {
   "cell_type": "code",
   "execution_count": 1,
   "metadata": {},
   "outputs": [
    {
     "name": "stdout",
     "output_type": "stream",
     "text": [
      "I\n",
      " \n",
      "L\n",
      "o\n",
      "v\n",
      "e\n",
      " \n",
      "P\n",
      "y\n",
      "t\n",
      "h\n",
      "o\n",
      "n\n",
      " \n",
      "P\n",
      "r\n",
      "o\n",
      "g\n",
      "r\n",
      "a\n",
      "m\n",
      "m\n",
      "i\n",
      "n\n",
      "g\n"
     ]
    }
   ],
   "source": [
    "c = 0 # initialize the value of c \n",
    "string = 'I Love Python Programming' # inputted string \n",
    "while c < len(string): # while loop will execute if condition is true \n",
    "    print string[c] # the string is displayed as a single character \n",
    "    c = c+1 # the value of c is incremented by 1"
   ]
  },
  {
   "cell_type": "markdown",
   "metadata": {},
   "source": [
    "# 2. Modify the program above to print out every second character of the string."
   ]
  },
  {
   "cell_type": "code",
   "execution_count": 2,
   "metadata": {},
   "outputs": [
    {
     "name": "stdout",
     "output_type": "stream",
     "text": [
      "y\n",
      "a\n",
      "s\n",
      "a\n"
     ]
    }
   ],
   "source": [
    "i = 0\n",
    "a = ['My', 'name','is','Navid']\n",
    "for i in a:\n",
    "    if len(i) > 1:\n",
    "        print i[1]"
   ]
  },
  {
   "cell_type": "markdown",
   "metadata": {},
   "source": [
    "# 3. Write a program that asks the user to enter a password. If the user enters the right password, the program should tell them they are logged in to the system. Otherwise, the program should ask them to reenter the password. The user should only get five tries to enter the password, after which point the program should tell them that they are kicked off of the system."
   ]
  },
  {
   "cell_type": "code",
   "execution_count": 3,
   "metadata": {},
   "outputs": [
    {
     "name": "stdout",
     "output_type": "stream",
     "text": [
      "Enter the Password: 7564\n",
      "Wrong Password.Please Reenter the Password\n",
      "\n",
      "Enter the Password: 9999\n",
      "Wrong Password.Please Reenter the Password\n",
      "\n",
      "Enter the Password: 1234\n",
      "Wrong Password.Please Reenter the Password\n",
      "\n",
      "Enter the Password: 7530\n",
      "You are Logged In to the System\n"
     ]
    }
   ],
   "source": [
    "i = 0 # initialize the value of i which is 0\n",
    "right_password = 7530 # inputted right password\n",
    "while i < 5: # while loop will execute if condition is true \n",
    "    password = input(\"Enter the Password: \") # ask user to input the password\n",
    "    if password == right_password: # when inputted password is the right password\n",
    "        print(\"You are Logged In to the System\") # print statement of logged in successfully\n",
    "        break # break statement\n",
    "    else: # else statement\n",
    "        print(\"Wrong Password.Please Reenter the Password\\n\") # print statement of wrong password\n",
    "    i = i+1 # the value of i is incremented by 1 \n",
    "    if i == 5: # when the value of i is 5\n",
    "        print(\"\\nYou are Kicked Off of the System\")"
   ]
  },
  {
   "cell_type": "markdown",
   "metadata": {},
   "source": [
    "# 4. Recall that, given a string s , s.index( ' x ' ) returns the index of the first x in s and an error if there is no x.\n",
    "\n",
    "# (a) Write a program that asks the user for a string and a letter. Using a while loop, the program should print the index of the first occurrence of that letter and a message if the string does not contain the letter."
   ]
  },
  {
   "cell_type": "code",
   "execution_count": null,
   "metadata": {},
   "outputs": [
    {
     "name": "stdout",
     "output_type": "stream",
     "text": [
      "Enter a String: Hello\n",
      "Enter a Letter: e\n",
      "\n",
      "First occurrence of e is found at index: 1 \n",
      "\n",
      "Enter a String: I love Python Programming\n",
      "Enter a Letter: m\n",
      "\n",
      "First occurrence of m is found at index: 20 \n",
      "\n",
      "Enter a String: Programming is Fun\n",
      "Enter a Letter: b\n",
      "\n",
      "The String does not contain the Letter\n",
      "\n"
     ]
    }
   ],
   "source": [
    "index = 0 # initialize the value of i which is 0\n",
    "while index>=0: # while loop will execute if condition is true \n",
    "    s = raw_input(\"Enter a String: \") # ask user to input a string\n",
    "    letter = raw_input(\"Enter a Letter: \") # ask user to input a letter \n",
    "    if letter in s: # if letter is in the string 's' \n",
    "        find = s.index(letter) # find out the first index of the letter that is matched\n",
    "        print \"\\nFirst occurrence of\",letter,\"is found at index:\",find,\"\\n\" # print statement\n",
    "    else: # if letter is not in the string 's' \n",
    "        print \"\\nThe String does not contain the Letter\\n\" # print statement\n",
    "    index = index + 1 # the value of index is incremented by 1 "
   ]
  },
  {
   "cell_type": "markdown",
   "metadata": {},
   "source": [
    "# (b) Write the above program using a for/break loop instead of a while loop."
   ]
  },
  {
   "cell_type": "code",
   "execution_count": 1,
   "metadata": {},
   "outputs": [
    {
     "name": "stdout",
     "output_type": "stream",
     "text": [
      "Enter a String: I like Python Programming.\n",
      "Enter a Letter: g\n",
      "\n",
      "First occurrence of g is found at index: 17 \n",
      "\n"
     ]
    }
   ],
   "source": [
    "s = raw_input(\"Enter a String: \") # ask user to input a string\n",
    "letter = raw_input(\"Enter a Letter: \") # ask user to input a letter \n",
    "for i in range(1): # for loop will executed one time as range is equal to 1\n",
    "    if letter in s: # if letter is in the string 's' \n",
    "        find = s.index(letter) # find out the first index of the letter that is matched\n",
    "        print \"\\nFirst occurrence of\",letter,\"is found at index:\",find,\"\\n\" # print statement\n",
    "        break # break statement means it will get out of the loop\n",
    "    else: # if letter is not in the string 's' \n",
    "        print \"\\nThe String does not contain the Letter\\n\" # print statement"
   ]
  },
  {
   "cell_type": "markdown",
   "metadata": {},
   "source": [
    "# 5.The GCD (greatest common divisor) of two numbers is the largest number that both are di-visible by. For instance, gcd (18, 42) is 6 because the largest number that both 18 and 42 are divisible by is 6. Write a program that asks the user for two numbers and computes their gcd. Shown below is a way to compute the GCD, called Euclid’s Algorithm.\n",
    "\n",
    "# • First compute the remainder of dividing the larger number by the smaller number\n",
    "\n",
    "# • Next, replace the larger number with the smaller number and the smaller number with the remainder.\n",
    "\n",
    "# • Repeat this process until the smaller number is 0. The GCD is the last value of the larger number."
   ]
  },
  {
   "cell_type": "code",
   "execution_count": 2,
   "metadata": {},
   "outputs": [
    {
     "name": "stdout",
     "output_type": "stream",
     "text": [
      "Enter Number1: 18\n",
      "Enter Number2: 42\n",
      "\n",
      "Greatest Common Divisor =  6\n"
     ]
    }
   ],
   "source": [
    "number1 = input(\"Enter Number1: \") # ask user to input first number\n",
    "number2 = input(\"Enter Number2: \") # ask user to input second number\n",
    "\n",
    "remainder = number1 % number2 # remainder of dividing the larger number by the smaller number\n",
    "\n",
    "while(remainder != 0): # while loop will executed when the remainder is not equal to 0\n",
    "    number1 = number2 # replacing the larger number with the smaller number\n",
    "    number2 = remainder # replacing the smaller number with the remainder\n",
    "    d = int(number1/number2) # after replacing dividing both number1 and number2 and store the integer value\n",
    "    remainder = number1 - (number2 * d) # finds out the value of remainder\n",
    "\n",
    "print \"\\nGreatest Common Divisor = \",number2 # prints the Greatest Common Divisor of Two Numbers"
   ]
  },
  {
   "cell_type": "markdown",
   "metadata": {},
   "source": [
    "# 6. A 4000-year old method to compute the square root of 5 is as follows: Start with an initial guess, say 1. Then compute\n",
    "\n",
    "# (1 + 5/1 )/2 = 3\n",
    "\n",
    "# Next, take that 3 and replace the 1’s in the previous formula with 3’s . This gives\n",
    "\n",
    "# (3 + 5/3 )/2 = 7/3 = 2.33\n",
    "\n",
    "# Next replace the 3 in the previous formula with 7/3 . This gives\n",
    "\n",
    "# (7/3 + 5/(7/3) )/2 = 47/22 = 2.24\n",
    "\n",
    "# If you keep doing this process of computing the formula, getting a result, and plugging it back in, the values will eventually get closer and closer to 5 . This method works for numbers other than 5. Write a program that asks the user for a number and uses this method to estimate the square root of the number correct to within 10^( −10) . The estimate will be correct to within 10^( −10) when the absolute value of the difference between consecutive values is less than 10^(−10) ."
   ]
  },
  {
   "cell_type": "code",
   "execution_count": 3,
   "metadata": {},
   "outputs": [
    {
     "name": "stdout",
     "output_type": "stream",
     "text": [
      "Enter a Number: 10\n",
      "\n",
      "3.16\n"
     ]
    }
   ],
   "source": [
    "number = float(input(\"Enter a Number: \")) # ask user to input a number\n",
    "i = 1 # initial guess as 1\n",
    "\n",
    "while i >= 0: # while loop\n",
    "    j = i\n",
    "    i = (i + number / i) / 2\n",
    "    if j == i: # if the value of value of x and i is equal\n",
    "        break # break statement which means get out of the loop\n",
    "\n",
    "print(\"\\n%.2f\"%i) # print statement"
   ]
  },
  {
   "cell_type": "markdown",
   "metadata": {},
   "source": [
    "# 7.\tWrite a program that starts with an 5 × 5 list of zeroes and randomly changes exactly ten of those zeroes to ones."
   ]
  },
  {
   "cell_type": "code",
   "execution_count": 13,
   "metadata": {},
   "outputs": [
    {
     "name": "stdout",
     "output_type": "stream",
     "text": [
      "0 0 1 0 0 \n",
      "0 1 0 0 0 \n",
      "1 0 0 1 1 \n",
      "0 0 1 1 0 \n",
      "0 1 1 0 1 \n"
     ]
    }
   ],
   "source": [
    "import random # import library to generate random number\n",
    "\n",
    "List = [] # Empty List\n",
    "randomPosition = [] # Empty List\n",
    "\n",
    "for i in range(25):\n",
    "    List.append(0) # Use append() to add elements\n",
    "\n",
    "for i in range(10):\n",
    "    x = random.randrange(1, 25)\n",
    "    while randomPosition.count(x) != 0:\n",
    "        x = random.randrange(1, 25)\n",
    "    randomPosition.append(x) # Use append() to add elements\n",
    "    List[x] = 1\n",
    "    \n",
    "k = 0\n",
    "for i in range(5):\n",
    "    for j in range(5):\n",
    "        if i+j == randomPosition[k]:\n",
    "            print(List[k]),\n",
    "            k = k + 1\n",
    "            continue\n",
    "        print(List[i+j]),\n",
    "    print (\"\\n\"),"
   ]
  },
  {
   "cell_type": "markdown",
   "metadata": {},
   "source": [
    "# 8. Write a program in which you have a list that contains seven integers that can be 0 or 1. Find the first nonzero entry in the list and change it to a 1. If there are no nonzero entries, print a message saying so."
   ]
  },
  {
   "cell_type": "code",
   "execution_count": 14,
   "metadata": {},
   "outputs": [
    {
     "name": "stdout",
     "output_type": "stream",
     "text": [
      "[1, 0, 0, 1, 0, 0, 1]\n"
     ]
    }
   ],
   "source": [
    "List = [1,0,0,1,0,0,1] # List that contains seven integers that can be 0 or 1\n",
    "\n",
    "k = True\n",
    "for x in List:\n",
    "    if x == 1:\n",
    "        x = 0\n",
    "        k = False\n",
    "        print(List)\n",
    "        break\n",
    "        \n",
    "if k == True:\n",
    "    print(\"There are no nonzero Entries\")"
   ]
  },
  {
   "cell_type": "code",
   "execution_count": null,
   "metadata": {},
   "outputs": [],
   "source": []
  }
 ],
 "metadata": {
  "kernelspec": {
   "display_name": "Python 2",
   "language": "python",
   "name": "python2"
  },
  "language_info": {
   "codemirror_mode": {
    "name": "ipython",
    "version": 2
   },
   "file_extension": ".py",
   "mimetype": "text/x-python",
   "name": "python",
   "nbconvert_exporter": "python",
   "pygments_lexer": "ipython2",
   "version": "2.7.15"
  }
 },
 "nbformat": 4,
 "nbformat_minor": 2
}
