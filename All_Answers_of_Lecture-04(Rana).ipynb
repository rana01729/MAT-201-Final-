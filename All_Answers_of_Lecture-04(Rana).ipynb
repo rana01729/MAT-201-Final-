{
 "cells": [
  {
   "cell_type": "markdown",
   "metadata": {},
   "source": [
    "# 1. Write a program that repeatedly asks the user to enter product names and prices. Store all of these in a dictionary whose keys are the product names and whose values are the prices. When the user is done entering products and prices, allow them to repeatedly enter a product name and print the corresponding price or a message if the product is not in the dictionary.# 1. Write a program that repeatedly asks the user to enter product names and prices. Store all of these in a dictionary whose keys are the product names and whose values are the prices. When the user is done entering products and prices, allow them to repeatedly enter a product name and print the corresponding price or a message if the product is not in the dictionary."
   ]
  },
  {
   "cell_type": "code",
   "execution_count": null,
   "metadata": {},
   "outputs": [
    {
     "name": "stdout",
     "output_type": "stream",
     "text": [
      "Enter the Product Name: Television\n",
      "Enter the Price: 200\n",
      "Do you want to Insert Again in the Dictionary(y/n): y\n",
      "Enter the Product Name: Monitor\n",
      "Enter the Price: 100\n",
      "Do you want to Insert Again in the Dictionary(y/n): y\n",
      "Enter the Product Name: Printer\n",
      "Enter the Price: 50\n",
      "Do you want to Insert Again in the Dictionary(y/n): y\n",
      "Enter the Product Name: Smartphone\n",
      "Enter the Price: 150\n",
      "Do you want to Insert Again in the Dictionary(y/n): y\n",
      "Enter the Product Name: Router\n",
      "Enter the Price: 30\n",
      "Do you want to Insert Again in the Dictionary(y/n): n\n",
      "\n",
      "All of the Keys and Values are Inserted in the Dictionary Successfully\n",
      "\n",
      "Enter the Product Name: Printer\n",
      "The Price of Printer is 50\n",
      "Enter the Product Name: Monitor\n",
      "The Price of Monitor is 100\n"
     ]
    }
   ],
   "source": [
    "dictionary = {} # empty dictionary\n",
    "\n",
    "while True:  \n",
    "    keys = raw_input(\"Enter the Product Name: \") \n",
    "    value = input(\"Enter the Price: \") \n",
    "    dictionary[keys] = value \n",
    "    choice = raw_input(\"Do you want to Insert Again in the Dictionary(y/n): \")\n",
    "    if choice == \"n\": \n",
    "        print(\"\\nAll of the Keys and Values are Inserted in the Dictionary Successfully\\n\") \n",
    "        break \n",
    "    else:  \n",
    "        choice == \"y\" \n",
    "        \n",
    "while True:\n",
    "    keys = raw_input(\"Enter the Product Name: \") \n",
    "    if keys in dictionary:\n",
    "        print \"The Price of\",keys,\"is\",dictionary[keys] \n",
    "    else: \n",
    "        print \"The Product\",keys,\"is not in the Dictionary\" "
   ]
  },
  {
   "cell_type": "markdown",
   "metadata": {},
   "source": [
    "# 2. Using the dictionary created in the previous problem, allow the user to enter a dollar amount and print out all the products whose price is less than that amount."
   ]
  },
  {
   "cell_type": "code",
   "execution_count": 1,
   "metadata": {},
   "outputs": [
    {
     "name": "stdout",
     "output_type": "stream",
     "text": [
      "Enter a Dollar Amount:$100\n",
      "\n",
      "The Products whose price is less than Amount $ 100 \n",
      "\n",
      "Product: Router\n",
      "Product: Printer\n"
     ]
    }
   ],
   "source": [
    "\n",
    "\n",
    "dictionary = {'Television':200,'Monitor':100,'Printer':50,'Smartphone':150,'Router':30}\n",
    "      \n",
    "amount = input(\"Enter a Dollar Amount:$\") \n",
    "print \"\\nThe Products whose price is less than Amount $\",amount,\"\\n\"\n",
    "for keys in dictionary:\n",
    "    if dictionary[keys] < amount: \n",
    "        print \"Product:\",keys"
   ]
  },
  {
   "cell_type": "markdown",
   "metadata": {},
   "source": [
    "# 3. Write a program that uses a dictionary that contains ten user names and passwords. The program should ask the user to enter their username and password. If the username is not in the dictionary, the program should indicate that the person is not a valid user of the system. If the username is in the dictionary, but the user does not enter the right password, the program should say that the password is invalid. If the password is correct, then the program should tell the user that they are now logged in to the system."
   ]
  },
  {
   "cell_type": "code",
   "execution_count": 2,
   "metadata": {},
   "outputs": [
    {
     "name": "stdout",
     "output_type": "stream",
     "text": [
      "Enter your Username: mahmudullah\n",
      "Enter your Password: 3111\n",
      "The Password is Invalid\n",
      "Enter your Username: mahmudullah\n",
      "Enter your Password: 3110\n",
      "You are now logged in to the system\n"
     ]
    }
   ],
   "source": [
    "usernames_and_passwords_in_a_dictionary = {'tamim' : 1234, 'imrul' :9999, 'mominul' :2580, 'sakib' :3690,'mushfiqur' :2550, \n",
    "                                          'mahmudullah' :3110, 'mehedi' :1990, 'mashrafe' :2000, 'rubel' :5700, 'mustafiz' :9700}\n",
    "while True:\n",
    "    username = raw_input(\"Enter your Username: \") \n",
    "    if username not in usernames_and_passwords_in_a_dictionary:\n",
    "        print \"The person is not a valid user of the system\"\n",
    "        break\n",
    "    password = input(\"Enter your Password: \") \n",
    "\n",
    "    \n",
    "    if username in usernames_and_passwords_in_a_dictionary and password == usernames_and_passwords_in_a_dictionary[username]:\n",
    "        print \"You are now logged in to the system\"\n",
    "        break\n",
    "    else:\n",
    "        print \"The Password is Invalid\""
   ]
  },
  {
   "cell_type": "markdown",
   "metadata": {},
   "source": [
    "# 6. Dictionaries provide a convenient way to store structured data. Here is an example dictionary:\n",
    "\n",
    "# d=[{ ' name ' : ' Todd ' , ' phone ' : ' 555-1414 ' , ' email ' : ' todd@mail.net ' }, { ' name ' : ' Helga ' , ' phone ' : ' 555-1618 ' , ' email ' : ' helga@mail.net ' }, { ' name ' : ' Princess ' , ' phone ' : ' 555-3141 ' , ' email ' : '' }, { ' name ' : ' LJ ' , ' phone ' : ' 555-2718 ' , ' email ' : ' lj@mail.net ' }]\n",
    "\n",
    "# Write a program that reads through any dictionary like this and prints the following:\n",
    "\n",
    "# (a) All the users whose phone number ends in an 8"
   ]
  },
  {
   "cell_type": "code",
   "execution_count": 3,
   "metadata": {},
   "outputs": [
    {
     "name": "stdout",
     "output_type": "stream",
     "text": [
      "The Name of the Users whose phone number ends in an 8\n",
      "\n",
      "User: Helga\n",
      "User: LJ\n"
     ]
    }
   ],
   "source": [
    "\n",
    "d = [{'name' : 'Todd' , 'phone' : '555-1414' , 'email' : 'todd@mail.net'}, \n",
    "     {'name' : 'Helga' , 'phone' : '555-1618' , 'email' : 'helga@mail.net'}, \n",
    "     {'name' : 'Princess' , 'phone' : '555-3141' , 'email' : ''}, \n",
    "     {'name' : 'LJ' , 'phone' : '555-2718' , 'email' : 'lj@mail.net'}]\n",
    "\n",
    "print \"The Name of the Users whose phone number ends in an 8\\n\"\n",
    "for key in d: \n",
    "    for value in key: \n",
    "        str = key.get('phone') \n",
    "        if str[len(str)-1] == '8':\n",
    "            print \"User:\",key.get('name') \n",
    "            break "
   ]
  },
  {
   "cell_type": "markdown",
   "metadata": {},
   "source": [
    "# (b) All the users that don’t have an email address listed"
   ]
  },
  {
   "cell_type": "code",
   "execution_count": 4,
   "metadata": {},
   "outputs": [
    {
     "name": "stdout",
     "output_type": "stream",
     "text": [
      "The Name of the Users that don’t have an email address listed\n",
      "\n",
      "User: Princess\n"
     ]
    }
   ],
   "source": [
    "\n",
    "d = [{ 'name' : 'Todd' , 'phone' : '555-1414' , 'email' : 'todd@mail.net' }, \n",
    "     { 'name' : 'Helga' , 'phone' : '555-1618' , 'email' : 'helga@mail.net' }, \n",
    "     { 'name' : 'Princess' , 'phone' : '555-3141' , 'email' : ' ' }, \n",
    "     { 'name' : 'LJ' , 'phone' : '555-2718' , 'email' : 'lj@mail.net' }]\n",
    "\n",
    "print \"The Name of the Users that don’t have an email address listed\\n\"\n",
    "for key in d: # \n",
    "    for value in key: \n",
    "        str = key.get('email') \n",
    "        if str[len(str)-1] == ' ': \n",
    "            print \"User:\",key.get('name') \n",
    "            break "
   ]
  },
  {
   "cell_type": "code",
   "execution_count": null,
   "metadata": {},
   "outputs": [],
   "source": []
  },
  {
   "cell_type": "markdown",
   "metadata": {},
   "source": [
    "# 7. The keys in a dictionary are guaranteed to be unique, but the values are not. Write a function called count_values that takes a single dictionary as an argument and returns the number of dis-tinct values it contains. Given the input {’red’:1, ’green’:1, ’blue’:2} , for example, it would return 2."
   ]
  },
  {
   "cell_type": "code",
   "execution_count": 7,
   "metadata": {},
   "outputs": [
    {
     "name": "stdout",
     "output_type": "stream",
     "text": [
      "Unique Values in Dictionary: 2\n"
     ]
    }
   ],
   "source": [
    "def count_values(dict): # Here count_values is the function name with single argument dict\n",
    "  values_count = {} # empty dictionary\n",
    "  for key in dict: # if key is in the dictionary\n",
    "    values_count[dict[key]] = dict[key]\n",
    "  return len(values_count) # return the length of values_count\n",
    "\n",
    "dict = {'red':1, 'green':1, 'blue':2} # given input\n",
    "print \"Unique Values in Dictionary:\",count_values(dict) \n",
    "# prints the dis-tinct values in Dictionary as output will be 2 because 1 and 2 are unique values \n",
    "# which means 1 for red and 1 for green means only one 1 as a unique value and 2 as a unique value\n",
    "#(Value = 1+1 =2)"
   ]
  },
  {
   "cell_type": "code",
   "execution_count": null,
   "metadata": {},
   "outputs": [],
   "source": []
  }
 ],
 "metadata": {
  "kernelspec": {
   "display_name": "Python 3",
   "language": "python",
   "name": "python3"
  },
  "language_info": {
   "codemirror_mode": {
    "name": "ipython",
    "version": 3
   },
   "file_extension": ".py",
   "mimetype": "text/x-python",
   "name": "python",
   "nbconvert_exporter": "python",
   "pygments_lexer": "ipython3",
   "version": "3.7.0"
  }
 },
 "nbformat": 4,
 "nbformat_minor": 2
}
